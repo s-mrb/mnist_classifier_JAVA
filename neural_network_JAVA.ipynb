{
  "nbformat": 4,
  "nbformat_minor": 0,
  "metadata": {
    "colab": {
      "name": "neural_network_JAVA (5).ipynb",
      "provenance": [],
      "collapsed_sections": []
    },
    "kernelspec": {
      "name": "python3",
      "display_name": "Python 3"
    },
    "accelerator": "GPU"
  },
  "cells": [
    {
      "cell_type": "markdown",
      "metadata": {
        "id": "ZzCTQeaM-g01",
        "colab_type": "text"
      },
      "source": [
        "#####**About**"
      ]
    },
    {
      "cell_type": "markdown",
      "metadata": {
        "id": "x5aA2J3h-kyy",
        "colab_type": "text"
      },
      "source": [
        "This Notebook contains setup to run Multiclass **MNIST classifier** Neural Network (**1 Hidden Layer**) implemented in **JAVA** without the use of any ML library like deeplearning4j etc. Very Simple architecture, just one hidden layer of 64 neurons.\n",
        "Only dependency is JAMA library, it is used for `**only Matrix**` Multiplication.\n",
        "\n",
        "\n",
        "**Accuracy:**\n",
        "```\n",
        "lr = 1\n",
        "\n",
        "78.67% --> 100 epochs\n",
        "80%    --> 200 epochs\n",
        ">90%   --> 1000 epochs\n",
        ">97%   --> 3000 epohs\n",
        "```\n",
        "\n",
        "\n",
        "**NOTE :**\n",
        "Get the link to dataset (*csv*) , Scripts and Jar file on drive and just run all the cells.\n",
        "\n",
        "```\n",
        " Run via shell, Script takes three command line arguments\n",
        "\n",
        "1.  Path to csv\n",
        "2.  Total epochs\n",
        "3.  Learning Rate\n",
        "4.  0/1 --> 0 if you don't want to print stats while training, 1 otherwise.\n",
        "\n",
        "```\n",
        "\n",
        "***Model Trains on CPU, make sure your JVM heap memory is set to minimum of 6GB***"
      ]
    },
    {
      "cell_type": "markdown",
      "metadata": {
        "id": "iqgrsCQY2CC4",
        "colab_type": "text"
      },
      "source": [
        "#####**JAVA SETUP**"
      ]
    },
    {
      "cell_type": "code",
      "metadata": {
        "id": "EEb_iZw_s5bX",
        "colab_type": "code",
        "colab": {}
      },
      "source": [
        "import os       \n",
        "def install_java():\n",
        "  !apt-get install -y openjdk-8-jdk-headless -qq > /dev/null     \n",
        "  os.environ[\"JAVA_HOME\"] = \"/usr/lib/jvm/java-8-openjdk-amd64\"     \n",
        "  !java -version      \n",
        "install_java()"
      ],
      "execution_count": null,
      "outputs": []
    },
    {
      "cell_type": "markdown",
      "metadata": {
        "id": "WaJ_1wYXEMtt",
        "colab_type": "text"
      },
      "source": [
        "#####**Download Data**"
      ]
    },
    {
      "cell_type": "code",
      "metadata": {
        "id": "rpGgYVF7EYJZ",
        "colab_type": "code",
        "colab": {
          "base_uri": "https://localhost:8080/",
          "height": 338
        },
        "outputId": "24c0c40b-3a5d-45aa-948d-79d4fd8f5159"
      },
      "source": [
        "url = \"https://pkgstore.datahub.io/machine-learning/mnist_784/mnist_784_zip/data/6637a87e259bcd7f68ac3fb346f40a29/mnist_784_zip.zip\"\n",
        "!wget \"$url\"\n",
        "!unzip mnist_784_zip.zip"
      ],
      "execution_count": 2,
      "outputs": [
        {
          "output_type": "stream",
          "text": [
            "--2020-06-24 08:50:16--  https://pkgstore.datahub.io/machine-learning/mnist_784/mnist_784_zip/data/6637a87e259bcd7f68ac3fb346f40a29/mnist_784_zip.zip\n",
            "Resolving pkgstore.datahub.io (pkgstore.datahub.io)... 104.18.49.253, 104.18.48.253, 172.67.157.38, ...\n",
            "Connecting to pkgstore.datahub.io (pkgstore.datahub.io)|104.18.49.253|:443... connected.\n",
            "HTTP request sent, awaiting response... 200 OK\n",
            "Length: 90817243 (87M) [application/zip]\n",
            "Saving to: ‘mnist_784_zip.zip’\n",
            "\n",
            "mnist_784_zip.zip   100%[===================>]  86.61M  72.3MB/s    in 1.2s    \n",
            "\n",
            "2020-06-24 08:50:17 (72.3 MB/s) - ‘mnist_784_zip.zip’ saved [90817243/90817243]\n",
            "\n",
            "Archive:  mnist_784_zip.zip\n",
            "  inflating: archive/mnist_784.csv   \n",
            "  inflating: data/validation_report.json  \n",
            "  inflating: data/mnist_784_csv.csv  \n",
            "  inflating: data/mnist_784_json.json  \n",
            "  inflating: README.md               \n",
            "  inflating: datapackage.json        \n"
          ],
          "name": "stdout"
        }
      ]
    },
    {
      "cell_type": "code",
      "metadata": {
        "id": "1-4QtutLhTD6",
        "colab_type": "code",
        "colab": {}
      },
      "source": [
        ""
      ],
      "execution_count": null,
      "outputs": []
    },
    {
      "cell_type": "markdown",
      "metadata": {
        "id": "qZkk1t30igmZ",
        "colab_type": "text"
      },
      "source": [
        "#####**Get JAVA CODE**"
      ]
    },
    {
      "cell_type": "code",
      "metadata": {
        "id": "H5CsCMSGCEVm",
        "colab_type": "code",
        "colab": {
          "base_uri": "https://localhost:8080/",
          "height": 117
        },
        "outputId": "1f45598d-a9ae-4b74-b8c6-90f288cbfd78"
      },
      "source": [
        "!git clone https://github.com/MehdiRazaBukhari/mnist_classifier_JAVA"
      ],
      "execution_count": 3,
      "outputs": [
        {
          "output_type": "stream",
          "text": [
            "Cloning into 'mnist_classifier_JAVA'...\n",
            "remote: Enumerating objects: 26, done.\u001b[K\n",
            "remote: Counting objects:   3% (1/26)\u001b[K\rremote: Counting objects:   7% (2/26)\u001b[K\rremote: Counting objects:  11% (3/26)\u001b[K\rremote: Counting objects:  15% (4/26)\u001b[K\rremote: Counting objects:  19% (5/26)\u001b[K\rremote: Counting objects:  23% (6/26)\u001b[K\rremote: Counting objects:  26% (7/26)\u001b[K\rremote: Counting objects:  30% (8/26)\u001b[K\rremote: Counting objects:  34% (9/26)\u001b[K\rremote: Counting objects:  38% (10/26)\u001b[K\rremote: Counting objects:  42% (11/26)\u001b[K\rremote: Counting objects:  46% (12/26)\u001b[K\rremote: Counting objects:  50% (13/26)\u001b[K\rremote: Counting objects:  53% (14/26)\u001b[K\rremote: Counting objects:  57% (15/26)\u001b[K\rremote: Counting objects:  61% (16/26)\u001b[K\rremote: Counting objects:  65% (17/26)\u001b[K\rremote: Counting objects:  69% (18/26)\u001b[K\rremote: Counting objects:  73% (19/26)\u001b[K\rremote: Counting objects:  76% (20/26)\u001b[K\rremote: Counting objects:  80% (21/26)\u001b[K\rremote: Counting objects:  84% (22/26)\u001b[K\rremote: Counting objects:  88% (23/26)\u001b[K\rremote: Counting objects:  92% (24/26)\u001b[K\rremote: Counting objects:  96% (25/26)\u001b[K\rremote: Counting objects: 100% (26/26)\u001b[K\rremote: Counting objects: 100% (26/26), done.\u001b[K\n",
            "remote: Compressing objects:   5% (1/20)\u001b[K\rremote: Compressing objects:  10% (2/20)\u001b[K\rremote: Compressing objects:  15% (3/20)\u001b[K\rremote: Compressing objects:  20% (4/20)\u001b[K\rremote: Compressing objects:  25% (5/20)\u001b[K\rremote: Compressing objects:  30% (6/20)\u001b[K\rremote: Compressing objects:  35% (7/20)\u001b[K\rremote: Compressing objects:  40% (8/20)\u001b[K\rremote: Compressing objects:  45% (9/20)\u001b[K\rremote: Compressing objects:  50% (10/20)\u001b[K\rremote: Compressing objects:  55% (11/20)\u001b[K\rremote: Compressing objects:  60% (12/20)\u001b[K\rremote: Compressing objects:  65% (13/20)\u001b[K\rremote: Compressing objects:  70% (14/20)\u001b[K\rremote: Compressing objects:  75% (15/20)\u001b[K\rremote: Compressing objects:  80% (16/20)\u001b[K\rremote: Compressing objects:  85% (17/20)\u001b[K\rremote: Compressing objects:  90% (18/20)\u001b[K\rremote: Compressing objects:  95% (19/20)\u001b[K\rremote: Compressing objects: 100% (20/20)\u001b[K\rremote: Compressing objects: 100% (20/20), done.\u001b[K\n",
            "Unpacking objects:   3% (1/26)   \rUnpacking objects:   7% (2/26)   \rUnpacking objects:  11% (3/26)   \rUnpacking objects:  15% (4/26)   \rUnpacking objects:  19% (5/26)   \rUnpacking objects:  23% (6/26)   \rUnpacking objects:  26% (7/26)   \rUnpacking objects:  30% (8/26)   \rUnpacking objects:  34% (9/26)   \rUnpacking objects:  38% (10/26)   \rUnpacking objects:  42% (11/26)   \rUnpacking objects:  46% (12/26)   \rUnpacking objects:  50% (13/26)   \rUnpacking objects:  53% (14/26)   \rUnpacking objects:  57% (15/26)   \rUnpacking objects:  61% (16/26)   \rremote: Total 26 (delta 14), reused 18 (delta 6), pack-reused 0\u001b[K\n",
            "Unpacking objects:  65% (17/26)   \rUnpacking objects:  69% (18/26)   \rUnpacking objects:  73% (19/26)   \rUnpacking objects:  76% (20/26)   \rUnpacking objects:  80% (21/26)   \rUnpacking objects:  84% (22/26)   \rUnpacking objects:  88% (23/26)   \rUnpacking objects:  92% (24/26)   \rUnpacking objects:  96% (25/26)   \rUnpacking objects: 100% (26/26)   \rUnpacking objects: 100% (26/26), done.\n"
          ],
          "name": "stdout"
        }
      ]
    },
    {
      "cell_type": "markdown",
      "metadata": {
        "id": "rP_T-XWA_y1Y",
        "colab_type": "text"
      },
      "source": [
        "#####**Variable setup**"
      ]
    },
    {
      "cell_type": "markdown",
      "metadata": {
        "id": "4h2IQxTW2KrQ",
        "colab_type": "text"
      },
      "source": [
        "**Get link to csv file on drive**\n",
        "\n",
        "```\n",
        "NOTE: CSV can be with header.\n",
        "NOTE: upload Java Script File and Jama Jar in colab, both on same *path*\n",
        "```"
      ]
    },
    {
      "cell_type": "code",
      "metadata": {
        "id": "LQ2ik6xjixo4",
        "colab_type": "code",
        "colab": {}
      },
      "source": [
        "# add path to script, either upload script in colab or get link to drive\n",
        "path_to_script = \"/content/mnist_classifier_JAVA/nn1.java\"\n",
        "\n",
        "# add path to jama 1.0.3 jar, either upload script in colab or get link to drive\n",
        "path_to_jama_jar = \"/content/mnist_classifier_JAVA/Jama-1.0.3.jar\""
      ],
      "execution_count": 4,
      "outputs": []
    },
    {
      "cell_type": "markdown",
      "metadata": {
        "id": "6Ms3_4xWi2YI",
        "colab_type": "text"
      },
      "source": [
        "**Command Line Arguments**"
      ]
    },
    {
      "cell_type": "code",
      "metadata": {
        "id": "wlmTxuqF3L03",
        "colab_type": "code",
        "colab": {}
      },
      "source": [
        "# dont change if downloadin using download cell or if downloaded without changing path setting\n",
        "path_to_csv = \"/content/data/mnist_784_csv.csv\"\n",
        "\n",
        "total_epoch = 1000\n",
        "\n",
        "learning_rate = 1\n",
        "\n",
        "# whether to show stats while training, if 0 then every secondth epoch loss will still be displayed\n",
        "stats = 0"
      ],
      "execution_count": 5,
      "outputs": []
    },
    {
      "cell_type": "markdown",
      "metadata": {
        "id": "66b7Su5H2bRY",
        "colab_type": "text"
      },
      "source": [
        "#####**Run script**"
      ]
    },
    {
      "cell_type": "code",
      "metadata": {
        "id": "WQats-Of7eoW",
        "colab_type": "code",
        "colab": {
          "base_uri": "https://localhost:8080/",
          "height": 1000
        },
        "outputId": "c7568c36-3a45-40fa-ad9e-dec005f14e9d"
      },
      "source": [
        "!java -Xmx12G -cp \"$path_to_jama_jar\": \"$path_to_script\" \"$path_to_csv\" \"$total_epoch\" \"$learning_rate\" \"$stats\""
      ],
      "execution_count": 6,
      "outputs": [
        {
          "output_type": "stream",
          "text": [
            "\n",
            "Dataset Successfully Loaded!\n",
            "\n",
            "Final loss: 0.3039943428993066\n",
            "Current Accuracy: 90.36999999999999\n",
            "\n",
            "\n",
            "Image: 0\n",
            "0000000000000000000000000000\n",
            "0000000000000000000000000000\n",
            "0000000000000000000000000000\n",
            "0000000000000000000000000000\n",
            "0000000000000000000000000000\n",
            "0000000000000000000000000000\n",
            "0000000000000000000000000000\n",
            "0000001111110000000000000000\n",
            "0000001111111111111111000000\n",
            "0000001111111111111111000000\n",
            "0000000000011111111111000000\n",
            "0000000000000000001111000000\n",
            "0000000000000000011110000000\n",
            "0000000000000000011110000000\n",
            "0000000000000000111100000000\n",
            "0000000000000000111100000000\n",
            "0000000000000001111000000000\n",
            "0000000000000001110000000000\n",
            "0000000000000011110000000000\n",
            "0000000000000111100000000000\n",
            "0000000000001111100000000000\n",
            "0000000000001111000000000000\n",
            "0000000000011111000000000000\n",
            "0000000000011110000000000000\n",
            "0000000000111110000000000000\n",
            "0000000000111110000000000000\n",
            "0000000000111100000000000000\n",
            "0000000000000000000000000000\n",
            "\n",
            "Label: 7\n",
            "Model Prediction: 7\n",
            "\n",
            "\n",
            "\n",
            "\n",
            "Image: 1\n",
            "0000000000000000000000000000\n",
            "0000000000000000000000000000\n",
            "0000000000000000000000000000\n",
            "0000000000111111100000000000\n",
            "0000000001111111110000000000\n",
            "0000000011111111110000000000\n",
            "0000000111111011110000000000\n",
            "0000000111100011110000000000\n",
            "0000000011000011110000000000\n",
            "0000000000000111110000000000\n",
            "0000000000001111100000000000\n",
            "0000000000001111000000000000\n",
            "0000000000011111000000000000\n",
            "0000000000111110000000000000\n",
            "0000000000111100000000000000\n",
            "0000000001111100000000000000\n",
            "0000000011111000000000000000\n",
            "0000000011111000000000000000\n",
            "0000000011110000000000000000\n",
            "0000000011111111101111111110\n",
            "0000000011111111111111111110\n",
            "0000000011111111111111111110\n",
            "0000000001111111111110000000\n",
            "0000000000000000000000000000\n",
            "0000000000000000000000000000\n",
            "0000000000000000000000000000\n",
            "0000000000000000000000000000\n",
            "0000000000000000000000000000\n",
            "\n",
            "Label: 2\n",
            "Model Prediction: 2\n",
            "\n",
            "\n",
            "\n",
            "\n",
            "Image: 2\n",
            "0000000000000000000000000000\n",
            "0000000000000000000000000000\n",
            "0000000000000000000000000000\n",
            "0000000000000000000000000000\n",
            "0000000000000000111000000000\n",
            "0000000000000000111000000000\n",
            "0000000000000000110000000000\n",
            "0000000000000001110000000000\n",
            "0000000000000001110000000000\n",
            "0000000000000001110000000000\n",
            "0000000000000011100000000000\n",
            "0000000000000011100000000000\n",
            "0000000000000011100000000000\n",
            "0000000000000111100000000000\n",
            "0000000000000111000000000000\n",
            "0000000000000111000000000000\n",
            "0000000000001110000000000000\n",
            "0000000000001110000000000000\n",
            "0000000000001110000000000000\n",
            "0000000000001110000000000000\n",
            "0000000000011110000000000000\n",
            "0000000000011110000000000000\n",
            "0000000000111100000000000000\n",
            "0000000000111100000000000000\n",
            "0000000000000000000000000000\n",
            "0000000000000000000000000000\n",
            "0000000000000000000000000000\n",
            "0000000000000000000000000000\n",
            "\n",
            "Label: 1\n",
            "Model Prediction: 1\n",
            "\n",
            "\n",
            "\n",
            "\n",
            "Image: 3\n",
            "0000000000000000000000000000\n",
            "0000000000000000000000000000\n",
            "0000000000000000000000000000\n",
            "0000000000000000000000000000\n",
            "0000000000001111100000000000\n",
            "0000000000001111100000000000\n",
            "0000000000011111100000000000\n",
            "0000000000111111111000000000\n",
            "0000000000111111111100000000\n",
            "0000000001111111111100000000\n",
            "0000000011111111111110000000\n",
            "0000000111111110011111100000\n",
            "0000000111111000001111100000\n",
            "0000000111110000001111100000\n",
            "0000000111000000001111100000\n",
            "0000000111000000001111100000\n",
            "0000000111000000111111100000\n",
            "0000000111000000111111000000\n",
            "0000000111000001111110000000\n",
            "0000000111111111111100000000\n",
            "0000000111111111111100000000\n",
            "0000000111111111111100000000\n",
            "0000000011111111100000000000\n",
            "0000000000111111100000000000\n",
            "0000000000000000000000000000\n",
            "0000000000000000000000000000\n",
            "0000000000000000000000000000\n",
            "0000000000000000000000000000\n",
            "\n",
            "Label: 0\n",
            "Model Prediction: 0\n",
            "\n",
            "\n",
            "\n",
            "\n",
            "Image: 4\n",
            "0000000000000000000000000000\n",
            "0000000000000000000000000000\n",
            "0000000000000000000000000000\n",
            "0000000000000000000000000000\n",
            "0000000000000000000000000000\n",
            "0000000000110000000110000000\n",
            "0000000000110000000110000000\n",
            "0000000001110000000111000000\n",
            "0000000001110000000111000000\n",
            "0000000011110000000111000000\n",
            "0000000011100000001111000000\n",
            "0000000111000000001111000000\n",
            "0000000111000000011110000000\n",
            "0000001110000000011100000000\n",
            "0000001110000000011100000000\n",
            "0000001111000000111100000000\n",
            "0000000111111111111100000000\n",
            "0000000111111111111100000000\n",
            "0000000001111100111000000000\n",
            "0000000000000000111100000000\n",
            "0000000000000000111000000000\n",
            "0000000000000000111000000000\n",
            "0000000000000000111000000000\n",
            "0000000000000000111000000000\n",
            "0000000000000000110000000000\n",
            "0000000000000000000000000000\n",
            "0000000000000000000000000000\n",
            "0000000000000000000000000000\n",
            "\n",
            "Label: 4\n",
            "Model Prediction: 4\n",
            "\n",
            "\n",
            "\n",
            "\n",
            "Image: 5\n",
            "0000000000000000000000000000\n",
            "0000000000000000000000000000\n",
            "0000000000000000000000000000\n",
            "0000000000000000000000000000\n",
            "0000000000000000000000000000\n",
            "0000000000000000111100000000\n",
            "0000000000000001111100000000\n",
            "0000000000000001111100000000\n",
            "0000000000000011111000000000\n",
            "0000000000000011110000000000\n",
            "0000000000000011110000000000\n",
            "0000000000000011110000000000\n",
            "0000000000000111100000000000\n",
            "0000000000000111100000000000\n",
            "0000000000000111100000000000\n",
            "0000000000001111000000000000\n",
            "0000000000001111000000000000\n",
            "0000000000001111000000000000\n",
            "0000000000011110000000000000\n",
            "0000000000011110000000000000\n",
            "0000000000011110000000000000\n",
            "0000000000011110000000000000\n",
            "0000000000111100000000000000\n",
            "0000000000111100000000000000\n",
            "0000000000011100000000000000\n",
            "0000000000000000000000000000\n",
            "0000000000000000000000000000\n",
            "0000000000000000000000000000\n",
            "\n",
            "Label: 1\n",
            "Model Prediction: 1\n",
            "\n",
            "\n",
            "\n",
            "\n",
            "Image: 6\n",
            "0000000000000000000000000000\n",
            "0000000000000000000000000000\n",
            "0000000000000000000000000000\n",
            "0000000000000000000000000000\n",
            "0000000000000000000000000000\n",
            "0000000001111000000001110000\n",
            "0000000011110000000011110000\n",
            "0000000111100000000011100000\n",
            "0000000111100000000111100000\n",
            "0000001111000000001111000000\n",
            "0000001111000000001110000000\n",
            "0000001111000000111100000000\n",
            "0000001111111111111100000000\n",
            "0000001111111111111100000000\n",
            "0000000111111111111000000000\n",
            "0000000000000001111000000000\n",
            "0000000000000001110000000000\n",
            "0000000000000011110000000000\n",
            "0000000000000011100000000000\n",
            "0000000000000011100000000000\n",
            "0000000000000111000000000000\n",
            "0000000000000111011000000000\n",
            "0000000000000111111000000000\n",
            "0000000000000111111000000000\n",
            "0000000000000111110000000000\n",
            "0000000000000000000000000000\n",
            "0000000000000000000000000000\n",
            "0000000000000000000000000000\n",
            "\n",
            "Label: 4\n",
            "Model Prediction: 8\n",
            "\n",
            "\n",
            "\n",
            "\n",
            "Image: 7\n",
            "0000000000000000000000000000\n",
            "0000000000000000000000000000\n",
            "0000000000000000000000000000\n",
            "0000000000000000000000000000\n",
            "0000000000000000000000000000\n",
            "0000000000000000000000000000\n",
            "0000000000011110000000000000\n",
            "0000000000111110000000000000\n",
            "0000000001111111000000000000\n",
            "0000000001111111110000000000\n",
            "0000000011111111110000000000\n",
            "0000000011101111111000000000\n",
            "0000000011100011111000000000\n",
            "0000000011100011110000000000\n",
            "0000000011111111111000000000\n",
            "0000000011111111111000000000\n",
            "0000000001111110111100000000\n",
            "0000000000111100111100000000\n",
            "0000000000000000011110000000\n",
            "0000000000000000011110000000\n",
            "0000000000000000001111000000\n",
            "0000000000000000000111100000\n",
            "0000000000000000000111100000\n",
            "0000000000000000000011100000\n",
            "0000000000000000000001110000\n",
            "0000000000000000000001110000\n",
            "0000000000000000000000000000\n",
            "0000000000000000000000000000\n",
            "\n",
            "Label: 9\n",
            "Model Prediction: 8\n",
            "\n",
            "\n",
            "\n",
            "\n"
          ],
          "name": "stdout"
        }
      ]
    },
    {
      "cell_type": "markdown",
      "metadata": {
        "id": "KcEpgC8n2ym9",
        "colab_type": "text"
      },
      "source": [
        "**JVM Memory check**"
      ]
    },
    {
      "cell_type": "code",
      "metadata": {
        "id": "XOCkQM-0DG31",
        "colab_type": "code",
        "colab": {
          "base_uri": "https://localhost:8080/",
          "height": 33
        },
        "outputId": "12ef6e6e-7471-45d6-846e-5d3e12a3f928"
      },
      "source": [
        "!ps -ef |grep tomcat"
      ],
      "execution_count": null,
      "outputs": [
        {
          "output_type": "stream",
          "text": [
            "root         144     124  0 08:49 ?        00:00:00 /bin/bash -c ps -ef |grep tomcat\n"
          ],
          "name": "stdout"
        }
      ]
    }
  ]
}
